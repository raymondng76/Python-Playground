{
 "metadata": {
  "language_info": {
   "codemirror_mode": {
    "name": "ipython",
    "version": 3
   },
   "file_extension": ".py",
   "mimetype": "text/x-python",
   "name": "python",
   "nbconvert_exporter": "python",
   "pygments_lexer": "ipython3",
   "version": "3.7.7-final"
  },
  "orig_nbformat": 2,
  "kernelspec": {
   "name": "python_defaultSpec_1596000698654",
   "display_name": "Python 3.7.7 64-bit ('pt': conda)"
  }
 },
 "nbformat": 4,
 "nbformat_minor": 2,
 "cells": [
  {
   "cell_type": "code",
   "execution_count": 27,
   "metadata": {},
   "outputs": [],
   "source": [
    "import torch\n",
    "import torch.nn as nn\n",
    "import torchvision\n",
    "import torch.utils.data\n",
    "import torchvision.transforms as transforms\n",
    "from tqdm import tqdm"
   ]
  },
  {
   "cell_type": "code",
   "execution_count": 28,
   "metadata": {
    "tags": []
   },
   "outputs": [
    {
     "output_type": "stream",
     "name": "stdout",
     "text": "1\nGeForce GTX 1080\n"
    }
   ],
   "source": [
    "print(torch.cuda.device_count())\n",
    "print(torch.cuda.get_device_name(0))\n",
    "device = torch.device(\"cuda:0\" if torch.cuda.is_available() else \"cpu\")"
   ]
  },
  {
   "cell_type": "code",
   "execution_count": 29,
   "metadata": {},
   "outputs": [],
   "source": [
    "BATCH_SIZE=32\n",
    "NUM_WORKERS=4\n",
    "EPOCHS=100"
   ]
  },
  {
   "cell_type": "code",
   "execution_count": 30,
   "metadata": {},
   "outputs": [],
   "source": [
    "transform = transforms.Compose([\n",
    "    transforms.ToTensor(),\n",
    "    transforms.Normalize(\n",
    "        (0.4914, 0.48216, 0.44653),\n",
    "        (0.24703, 0.24349, 0.26159)\n",
    "    )])"
   ]
  },
  {
   "cell_type": "code",
   "execution_count": 31,
   "metadata": {
    "tags": []
   },
   "outputs": [
    {
     "output_type": "stream",
     "name": "stdout",
     "text": "Files already downloaded and verified\nFiles already downloaded and verified\n"
    }
   ],
   "source": [
    "# trainset = torchvision.datasets.MNIST(root='./data', train=True, download=True, transform=transform)\n",
    "# testset = torchvision.datasets.MNIST(root='./data', train=False, download=True, transform=transform)\n",
    "trainset = torchvision.datasets.CIFAR10(root='./data', train=True, download=True, transform=transform)\n",
    "testset = torchvision.datasets.CIFAR10(root='./data', train=False, download=True, transform=transform)"
   ]
  },
  {
   "cell_type": "code",
   "execution_count": 32,
   "metadata": {},
   "outputs": [],
   "source": [
    "trainloader = torch.utils.data.DataLoader(trainset, batch_size=BATCH_SIZE, shuffle=True, num_workers=NUM_WORKERS)\n",
    "testloader = torch.utils.data.DataLoader(testset, batch_size=BATCH_SIZE, shuffle=False, num_workers=NUM_WORKERS)"
   ]
  },
  {
   "cell_type": "code",
   "execution_count": 33,
   "metadata": {
    "tags": []
   },
   "outputs": [
    {
     "output_type": "stream",
     "name": "stdout",
     "text": "(50000, 32, 32, 3)\n(10000, 32, 32, 3)\n"
    }
   ],
   "source": [
    "print(trainloader.dataset.data.shape)\n",
    "print(testloader.dataset.data.shape)"
   ]
  },
  {
   "cell_type": "code",
   "execution_count": 34,
   "metadata": {},
   "outputs": [],
   "source": [
    "# class AlexNet(nn.Module):\n",
    "#     def __init__(self, num_classes=10):\n",
    "#         super(AlexNet, self).__init__()\n",
    "#         self.conv1 = nn.Conv2d(3, 64, kernel_size=11, stride=4, padding=2)\n",
    "#         self.relu = nn.ReLU(inplace=True)\n",
    "#         self.maxpool = nn.MaxPool2d(kernel_size=3, stride=2)\n",
    "#         self.conv2 = nn.Conv2d(64, 192, kernel_size=5, padding=2)\n",
    "#         self.conv3 = nn.Conv2d(192, 384, kernel_size=3, padding=1)\n",
    "#         self.conv4 = nn.Conv2d(384, 256, kernel_size=3, padding=1)\n",
    "#         self.conv5 = nn.Conv2d(256, 256, kernel_size=3, padding=1)\n",
    "#         self.avgpool = nn.AdaptiveAvgPool2d((6,6))\n",
    "#         self.fc1 = nn.Linear(256 * 6 * 6, 4096)\n",
    "#         self.fc2 = nn.Linear(4096, 4096)\n",
    "#         self.fc3 = nn.Linear(4096, num_classes)\n",
    "    \n",
    "#     def forward(self, x):\n",
    "#         x = self.relu(self.conv1(x))\n",
    "#         x = self.maxpool(x)\n",
    "#         x = self.relu(self.conv2(x))\n",
    "#         x = self.maxpool(x)\n",
    "#         x = self.relu(self.conv3(x))\n",
    "#         x = self.relu(self.conv4(x))\n",
    "#         x = self.relu(self.conv5(x))\n",
    "#         x = self.maxpool(x)\n",
    "#         x = self.avgpool(x)\n",
    "#         x = x.view(x.size(0), 256 * 6 * 6)\n",
    "#         x = self.relu(self.fc1(x))\n",
    "#         x = self.relu(self.fc2(x))\n",
    "#         return self.fc3(x)"
   ]
  },
  {
   "cell_type": "code",
   "execution_count": 35,
   "metadata": {},
   "outputs": [],
   "source": [
    "# net = AlexNet()\n",
    "# net.to(device)\n",
    "# criterion = nn.CrossEntropyLoss()\n",
    "# optimizer = torch.optim.Adam(net.parameters(), lr=3e-4)"
   ]
  },
  {
   "cell_type": "code",
   "execution_count": 37,
   "metadata": {},
   "outputs": [],
   "source": [
    "class Net(nn.Module):\n",
    "    def __init__(self, num_classes=10):\n",
    "        super(Net, self).__init__()\n",
    "        self.conv1 = nn.Conv2d(3, 32, kernel_size=3, padding=1)\n",
    "        self.conv2 = nn.Conv2d(32, 64, kernel_size=3, padding=1)\n",
    "        self.conv3 = nn.Conv2d(64, 128, kernel_size=3, padding=1)\n",
    "        self.pool = nn.MaxPool2d(2,2)\n",
    "        self.fc = nn.Linear(128 * 4 * 4, num_classes) # 128 is output from conv3, 4*4 is because 3x pooling reduce input size 32 by factor of 2 for 3 times (i.e. 32/2 = 16/2 = 8/2 = 4)\n",
    "    \n",
    "    def forward(self, x):\n",
    "        x = self.conv1(x)\n",
    "        x = nn.functional.relu(x)\n",
    "        x = self.pool(x)\n",
    "        x = self.conv2(x)\n",
    "        x = nn.functional.relu(x)\n",
    "        x = self.pool(x)\n",
    "        x = self.conv3(x)\n",
    "        x = nn.functional.relu(x)\n",
    "        x = self.pool(x)\n",
    "        x = x.view(-1, 128 * 4 * 4)\n",
    "        return self.fc(x)\n"
   ]
  },
  {
   "cell_type": "code",
   "execution_count": 38,
   "metadata": {},
   "outputs": [],
   "source": [
    "net = Net()\n",
    "net.to(device)\n",
    "criterion = nn.CrossEntropyLoss()\n",
    "optimizer = torch.optim.Adam(net.parameters(), lr=3e-4)"
   ]
  },
  {
   "cell_type": "code",
   "execution_count": 40,
   "metadata": {
    "tags": []
   },
   "outputs": [
    {
     "output_type": "stream",
     "name": "stderr",
     "text": "100%|██████████| 100/100 [07:23<00:00,  4.44s/it]\n"
    }
   ],
   "source": [
    "for epoch in tqdm(range(EPOCHS)):\n",
    "    for i, data in enumerate(trainloader, 0):\n",
    "        # Get inputs\n",
    "        inputs, labels = data\n",
    "        inputs, labels = inputs.to(device), labels.to(device)\n",
    "        # Set optimizer gradient to zero (required for pytorch)\n",
    "        optimizer.zero_grad()\n",
    "        # Foward pass -> backward pass -> optimize\n",
    "        output = net(inputs)\n",
    "        loss = criterion(output, labels)\n",
    "        loss.backward()\n",
    "        optimizer.step()"
   ]
  },
  {
   "cell_type": "code",
   "execution_count": 41,
   "metadata": {},
   "outputs": [
    {
     "output_type": "execute_result",
     "data": {
      "text/plain": "Net(\n  (conv1): Conv2d(3, 32, kernel_size=(3, 3), stride=(1, 1), padding=(1, 1))\n  (conv2): Conv2d(32, 64, kernel_size=(3, 3), stride=(1, 1), padding=(1, 1))\n  (conv3): Conv2d(64, 128, kernel_size=(3, 3), stride=(1, 1), padding=(1, 1))\n  (pool): MaxPool2d(kernel_size=2, stride=2, padding=0, dilation=1, ceil_mode=False)\n  (fc): Linear(in_features=2048, out_features=10, bias=True)\n)"
     },
     "metadata": {},
     "execution_count": 41
    }
   ],
   "source": [
    "correct, total = 0, 0\n",
    "predictions = []\n",
    "net.eval()"
   ]
  },
  {
   "cell_type": "code",
   "execution_count": 43,
   "metadata": {
    "tags": []
   },
   "outputs": [
    {
     "output_type": "stream",
     "name": "stderr",
     "text": "313it [00:00, 435.04it/s]\n"
    }
   ],
   "source": [
    "for i, data in tqdm(enumerate(testloader, 0)):\n",
    "    inputs, labels = data\n",
    "    inputs, labels = inputs.to(device), labels.to(device)\n",
    "    outputs = net(inputs)\n",
    "    _, predicted = torch.max(outputs.data, 1)\n",
    "    predictions.append(outputs)\n",
    "    total += labels.size(0)\n",
    "    correct += (predicted == labels).sum().item()"
   ]
  },
  {
   "cell_type": "code",
   "execution_count": 44,
   "metadata": {
    "tags": []
   },
   "outputs": [
    {
     "output_type": "stream",
     "name": "stdout",
     "text": "Testset acc: 73.5944976076555\n"
    }
   ],
   "source": [
    "print(f'Testset acc: {100 * correct / total}')"
   ]
  },
  {
   "cell_type": "code",
   "execution_count": null,
   "metadata": {},
   "outputs": [],
   "source": []
  }
 ]
}